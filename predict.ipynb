{
 "cells": [
  {
   "cell_type": "code",
   "execution_count": 1,
   "metadata": {},
   "outputs": [
    {
     "name": "stderr",
     "output_type": "stream",
     "text": [
      "/home/vishwesh/anaconda3/envs/clsenv/lib/python3.9/site-packages/tqdm/auto.py:22: TqdmWarning: IProgress not found. Please update jupyter and ipywidgets. See https://ipywidgets.readthedocs.io/en/stable/user_install.html\n",
      "  from .autonotebook import tqdm as notebook_tqdm\n"
     ]
    }
   ],
   "source": [
    "from models.common import DetectMultiBackend\n",
    "import torch\n",
    "import matplotlib.pyplot as plt\n",
    "from utils.augmentations import letterbox\n",
    "from utils.dataloaders import IMG_FORMATS, VID_FORMATS, LoadImages\n",
    "from utils.plots import Annotator, colors, save_one_box\n",
    "from utils.general import (LOGGER, check_file, check_img_size, check_imshow, check_requirements, colorstr, cv2,\n",
    "                           increment_path, non_max_suppression, print_args, scale_coords, strip_optimizer, xyxy2xywh)\n",
    "import numpy as np\n",
    "import os"
   ]
  },
  {
   "cell_type": "code",
   "execution_count": 2,
   "metadata": {},
   "outputs": [],
   "source": [
    "%matplotlib inline"
   ]
  },
  {
   "cell_type": "code",
   "execution_count": 3,
   "metadata": {},
   "outputs": [
    {
     "name": "stderr",
     "output_type": "stream",
     "text": [
      "Fusing layers... \n",
      "custom_YOLOv5s summary: 232 layers, 7249215 parameters, 0 gradients, 16.7 GFLOPs\n"
     ]
    }
   ],
   "source": [
    "WEIGHTS_PATH = r\"best.pt\"\n",
    "DEVICE = \"cpu\"\n",
    "half = False\n",
    "model = DetectMultiBackend(WEIGHTS_PATH, device=DEVICE, dnn=False)"
   ]
  },
  {
   "cell_type": "code",
   "execution_count": 4,
   "metadata": {},
   "outputs": [],
   "source": [
    "# model"
   ]
  },
  {
   "cell_type": "code",
   "execution_count": 5,
   "metadata": {},
   "outputs": [],
   "source": [
    "stride, names, pt = model.stride, model.names, model.pt"
   ]
  },
  {
   "cell_type": "code",
   "execution_count": 6,
   "metadata": {},
   "outputs": [
    {
     "name": "stdout",
     "output_type": "stream",
     "text": [
      "['/home/vishwesh/Desktop/study/sem7/prac/DL/images/IMG-20220311-WA0001.jpg', '/home/vishwesh/Desktop/study/sem7/prac/DL/images/Snapchat-1086665998.jpg', '/home/vishwesh/Desktop/study/sem7/prac/DL/images/Snapchat-1272617603.jpg', '/home/vishwesh/Desktop/study/sem7/prac/DL/images/Snapchat-1915067342.jpg', '/home/vishwesh/Desktop/study/sem7/prac/DL/images/Snapchat-607935325.jpg']\n"
     ]
    }
   ],
   "source": [
    "dataset = LoadImages(\"images/\", img_size=(640, 640), stride=stride, auto=pt)"
   ]
  },
  {
   "cell_type": "code",
   "execution_count": 7,
   "metadata": {},
   "outputs": [],
   "source": [
    "dt = [0.0,0.0, 0.0]"
   ]
  },
  {
   "cell_type": "code",
   "execution_count": 8,
   "metadata": {},
   "outputs": [],
   "source": [
    "conf_thres=0.25  # confidence threshold\n",
    "iou_thres=0.45\n",
    "classes=None\n",
    "save_crop = False\n",
    "line_thickness = 3"
   ]
  },
  {
   "cell_type": "code",
   "execution_count": 9,
   "metadata": {},
   "outputs": [],
   "source": [
    "real_classes = [\"with helmet\",\"without helmet\"]"
   ]
  },
  {
   "cell_type": "code",
   "execution_count": 15,
   "metadata": {},
   "outputs": [],
   "source": [
    "def transform(point, real, new):\n",
    "    return int(point * new/real)"
   ]
  },
  {
   "cell_type": "code",
   "execution_count": null,
   "metadata": {},
   "outputs": [],
   "source": []
  },
  {
   "cell_type": "code",
   "execution_count": 38,
   "metadata": {},
   "outputs": [
    {
     "name": "stdout",
     "output_type": "stream",
     "text": [
      "(560, 720, 3)\n"
     ]
    }
   ],
   "source": [
    "RESIZE = (720, 560)\n",
    "COLOR_BORDER = [0, 0, 255]\n",
    "COLOR_TEXT = [0, 255, 0]\n",
    "save_path = \"/home/vishwesh/Desktop\"\n",
    "img_path = \"/home/vishwesh/Desktop/study/sem7/Project/content/yolov5/data/images/one.jpg\"\n",
    "file_name = img_path.split(\"/\")[-1].split(\".\")[0]\n",
    "img0 = cv2.imread(img_path)\n",
    "img_size = 640\n",
    "stride = 32\n",
    "auto = True\n",
    "img = letterbox(img0, img_size, stride=stride, auto=auto)[0]\n",
    "img = img.transpose((2, 0, 1))[::-1]  # HWC to CHW, BGR to RGB\n",
    "img = np.ascontiguousarray(img)\n",
    "im = torch.from_numpy(img).to(DEVICE)\n",
    "im = im.float()\n",
    "im = im/255\n",
    "im = im[None]\n",
    "pred = model(im, augment=False, visualize=False)\n",
    "    # t3 = time_sync()\n",
    "    # dt[1] += t3 - t2\n",
    "# print(\"hello\")\n",
    "\n",
    "\n",
    "# print(pred.shape)\n",
    "# NMS\n",
    "pred = non_max_suppression(pred, conf_thres, iou_thres, classes, False, max_det=1000)\n",
    "# print(pred)\n",
    "for i, det in enumerate(pred):\n",
    "    p, im0 = img_path, img0.copy()\n",
    "    gn = torch.tensor(im0.shape)[[1, 0, 1, 0]]  # normalization gain whwh\n",
    "    imc = im0.copy() if save_crop else im0  # for save_crop\n",
    "    real_width, real_height, _ = im0.shape\n",
    "    new = cv2.resize(im0, (RESIZE[0], RESIZE[1]))\n",
    "    print(new.shape)\n",
    "    if len(det):\n",
    "        det[:, :4] = scale_coords(im.shape[2:], det[:, :4], img0.shape).round()\n",
    "        # print(det)\n",
    "        # new = cv2.rectangle(img0, (x_start, y_start), (x_end, y_end), COLOR, 5)\n",
    "        for j in det:\n",
    "            # print(j)\n",
    "            # x_start, y_start, x_end, y_end = int(j[0]),int(j[1]),int(j[2]),int(j[3])\n",
    "            x_start, y_start, x_end, y_end = (\n",
    "                transform(j[0], real_height, RESIZE[0]),\n",
    "                transform(j[1], real_width, RESIZE[1]),\n",
    "                transform(j[2], real_height, RESIZE[0]),\n",
    "                transform(j[3], real_width, RESIZE[1])\n",
    "            )\n",
    "            class_idx = int(j[-1])\n",
    "            conf = j[-2]\n",
    "            new = cv2.rectangle(new, (x_start, y_start), (x_end, y_end), COLOR_BORDER, 2)\n",
    "            # cv2.putText()\n",
    "            new = cv2.putText(new, real_classes[int(class_idx)]+\" \"+str(np.round(conf.numpy(),2)),(x_start, y_start-10),1,1.5,COLOR_TEXT,2)\n",
    "            # print(real_width)\n",
    "            # print(real_height)\n",
    "            # print((int(x_start*480/real_width)+20, int(y_start*480/real_height)-10))\n",
    "            if y_start <50:\n",
    "                new = cv2.putText(new, real_classes[int(class_idx)]+\" \"+str(np.round(conf.numpy(),2)),(x_start, y_end+10),1,1.5,COLOR_TEXT,2)\n",
    "            else : \n",
    "                new = cv2.putText(new, real_classes[int(class_idx)]+\" \"+str(np.round(conf.numpy(),2)),(x_start, y_start-10),1,1.5,COLOR_TEXT,2)\n",
    "\n",
    " \n",
    "            \n",
    "            # print((int(x_start*720/real_width), int(y_start*720/real_height)-5))\n",
    "            # print(real_classes[class_idx])\n",
    "            # new = cv2.putText(new, real_classes[int(class_idx)]+\" \"+str(conf.numpy()),(int(x_start*720/real_height), int(y_start*720/real_width)-5),1,0.8,COLOR,1)\n",
    "            # new = cv2.putText(new, real_classes[class_idx],(x_start, y_start-10),1,1.1,[255, 255, 255],1)\n",
    "            \n",
    "            # cv2.imwrite(os.path.join(save_path,\"detected_{}.jpeg\".format(file_name)),new)\n",
    "    cv2.imshow(\"Frame\", new)\n",
    "    cv2.waitKey(0)\n",
    "    cv2.destroyAllWindows()\n",
    "    cv2.imwrite(os.path.join(save_path,\"detected_{}.jpeg\".format(file_name)),new)"
   ]
  },
  {
   "cell_type": "code",
   "execution_count": null,
   "metadata": {},
   "outputs": [],
   "source": []
  },
  {
   "cell_type": "code",
   "execution_count": 112,
   "metadata": {},
   "outputs": [
    {
     "name": "stdout",
     "output_type": "stream",
     "text": [
      "tensor([[[114, 114, 114,  ..., 114, 114, 114],\n",
      "         [114, 114, 114,  ..., 114, 114, 114],\n",
      "         [114, 114, 114,  ..., 114, 114, 114],\n",
      "         ...,\n",
      "         [114, 114, 114,  ..., 114, 114, 114],\n",
      "         [114, 114, 114,  ..., 114, 114, 114],\n",
      "         [114, 114, 114,  ..., 114, 114, 114]],\n",
      "\n",
      "        [[114, 114, 114,  ..., 114, 114, 114],\n",
      "         [114, 114, 114,  ..., 114, 114, 114],\n",
      "         [114, 114, 114,  ..., 114, 114, 114],\n",
      "         ...,\n",
      "         [114, 114, 114,  ..., 114, 114, 114],\n",
      "         [114, 114, 114,  ..., 114, 114, 114],\n",
      "         [114, 114, 114,  ..., 114, 114, 114]],\n",
      "\n",
      "        [[114, 114, 114,  ..., 114, 114, 114],\n",
      "         [114, 114, 114,  ..., 114, 114, 114],\n",
      "         [114, 114, 114,  ..., 114, 114, 114],\n",
      "         ...,\n",
      "         [114, 114, 114,  ..., 114, 114, 114],\n",
      "         [114, 114, 114,  ..., 114, 114, 114],\n",
      "         [114, 114, 114,  ..., 114, 114, 114]]], dtype=torch.uint8)\n",
      "torch.Size([1, 13860, 7])\n",
      "(2340, 1080, 3)\n",
      "tensor([250.00000,  21.00000, 427.00000, 254.00000,   0.88718,   1.00000])\n",
      "1280\n",
      "675\n",
      "(140, 17)\n",
      "without helmet\n",
      "tensor([[[114, 114, 114,  ..., 114, 114, 114],\n",
      "         [114, 114, 114,  ..., 114, 114, 114],\n",
      "         [114, 114, 114,  ..., 114, 114, 114],\n",
      "         ...,\n",
      "         [114, 114, 114,  ..., 114, 114, 114],\n",
      "         [114, 114, 114,  ..., 114, 114, 114],\n",
      "         [114, 114, 114,  ..., 114, 114, 114]],\n",
      "\n",
      "        [[114, 114, 114,  ..., 114, 114, 114],\n",
      "         [114, 114, 114,  ..., 114, 114, 114],\n",
      "         [114, 114, 114,  ..., 114, 114, 114],\n",
      "         ...,\n",
      "         [114, 114, 114,  ..., 114, 114, 114],\n",
      "         [114, 114, 114,  ..., 114, 114, 114],\n",
      "         [114, 114, 114,  ..., 114, 114, 114]],\n",
      "\n",
      "        [[114, 114, 114,  ..., 114, 114, 114],\n",
      "         [114, 114, 114,  ..., 114, 114, 114],\n",
      "         [114, 114, 114,  ..., 114, 114, 114],\n",
      "         ...,\n",
      "         [114, 114, 114,  ..., 114, 114, 114],\n",
      "         [114, 114, 114,  ..., 114, 114, 114],\n",
      "         [114, 114, 114,  ..., 114, 114, 114]]], dtype=torch.uint8)\n",
      "torch.Size([1, 12600, 7])\n",
      "(1280, 675, 3)\n",
      "tensor([3.20000e+02, 1.15500e+03, 1.11800e+03, 2.08800e+03, 5.91414e-01, 0.00000e+00])\n",
      "3075\n",
      "1472\n",
      "(74, 559)\n",
      "with helmet\n",
      "tensor([[[114, 114, 114,  ..., 114, 114, 114],\n",
      "         [114, 114, 114,  ..., 114, 114, 114],\n",
      "         [114, 114, 114,  ..., 114, 114, 114],\n",
      "         ...,\n",
      "         [114, 114, 114,  ..., 114, 114, 114],\n",
      "         [114, 114, 114,  ..., 114, 114, 114],\n",
      "         [114, 114, 114,  ..., 114, 114, 114]],\n",
      "\n",
      "        [[114, 114, 114,  ..., 114, 114, 114],\n",
      "         [114, 114, 114,  ..., 114, 114, 114],\n",
      "         [114, 114, 114,  ..., 114, 114, 114],\n",
      "         ...,\n",
      "         [114, 114, 114,  ..., 114, 114, 114],\n",
      "         [114, 114, 114,  ..., 114, 114, 114],\n",
      "         [114, 114, 114,  ..., 114, 114, 114]],\n",
      "\n",
      "        [[114, 114, 114,  ..., 114, 114, 114],\n",
      "         [114, 114, 114,  ..., 114, 114, 114],\n",
      "         [114, 114, 114,  ..., 114, 114, 114],\n",
      "         ...,\n",
      "         [114, 114, 114,  ..., 114, 114, 114],\n",
      "         [114, 114, 114,  ..., 114, 114, 114],\n",
      "         [114, 114, 114,  ..., 114, 114, 114]]], dtype=torch.uint8)\n",
      "torch.Size([1, 12600, 7])\n",
      "(3075, 1472, 3)\n",
      "tensor([3.06000e+02, 7.03000e+02, 1.16100e+03, 1.62200e+03, 8.70736e-01, 0.00000e+00])\n",
      "3075\n",
      "1472\n",
      "(71, 338)\n",
      "with helmet\n",
      "tensor([[[114, 114, 114,  ..., 114, 114, 114],\n",
      "         [114, 114, 114,  ..., 114, 114, 114],\n",
      "         [114, 114, 114,  ..., 114, 114, 114],\n",
      "         ...,\n",
      "         [114, 114, 114,  ..., 114, 114, 114],\n",
      "         [114, 114, 114,  ..., 114, 114, 114],\n",
      "         [114, 114, 114,  ..., 114, 114, 114]],\n",
      "\n",
      "        [[114, 114, 114,  ..., 114, 114, 114],\n",
      "         [114, 114, 114,  ..., 114, 114, 114],\n",
      "         [114, 114, 114,  ..., 114, 114, 114],\n",
      "         ...,\n",
      "         [114, 114, 114,  ..., 114, 114, 114],\n",
      "         [114, 114, 114,  ..., 114, 114, 114],\n",
      "         [114, 114, 114,  ..., 114, 114, 114]],\n",
      "\n",
      "        [[114, 114, 114,  ..., 114, 114, 114],\n",
      "         [114, 114, 114,  ..., 114, 114, 114],\n",
      "         [114, 114, 114,  ..., 114, 114, 114],\n",
      "         ...,\n",
      "         [114, 114, 114,  ..., 114, 114, 114],\n",
      "         [114, 114, 114,  ..., 114, 114, 114],\n",
      "         [114, 114, 114,  ..., 114, 114, 114]]], dtype=torch.uint8)\n",
      "torch.Size([1, 12600, 7])\n",
      "(3075, 1472, 3)\n",
      "tensor([4.88000e+02, 1.18800e+03, 8.51000e+02, 1.62200e+03, 8.68797e-01, 0.00000e+00])\n",
      "3075\n",
      "1472\n",
      "(114, 576)\n",
      "with helmet\n",
      "tensor([[[114, 114, 114,  ..., 114, 114, 114],\n",
      "         [114, 114, 114,  ..., 114, 114, 114],\n",
      "         [114, 114, 114,  ..., 114, 114, 114],\n",
      "         ...,\n",
      "         [114, 114, 114,  ..., 114, 114, 114],\n",
      "         [114, 114, 114,  ..., 114, 114, 114],\n",
      "         [114, 114, 114,  ..., 114, 114, 114]],\n",
      "\n",
      "        [[114, 114, 114,  ..., 114, 114, 114],\n",
      "         [114, 114, 114,  ..., 114, 114, 114],\n",
      "         [114, 114, 114,  ..., 114, 114, 114],\n",
      "         ...,\n",
      "         [114, 114, 114,  ..., 114, 114, 114],\n",
      "         [114, 114, 114,  ..., 114, 114, 114],\n",
      "         [114, 114, 114,  ..., 114, 114, 114]],\n",
      "\n",
      "        [[114, 114, 114,  ..., 114, 114, 114],\n",
      "         [114, 114, 114,  ..., 114, 114, 114],\n",
      "         [114, 114, 114,  ..., 114, 114, 114],\n",
      "         ...,\n",
      "         [114, 114, 114,  ..., 114, 114, 114],\n",
      "         [114, 114, 114,  ..., 114, 114, 114],\n",
      "         [114, 114, 114,  ..., 114, 114, 114]]], dtype=torch.uint8)\n",
      "torch.Size([1, 12600, 7])\n",
      "(3075, 1472, 3)\n"
     ]
    }
   ],
   "source": [
    "for path, im, im0s, vid_cap, s in dataset:\n",
    "    # t1 = time_sync()\n",
    "    # plt.imshow(im0s)\n",
    "    # plt.show()\n",
    "    im = torch.from_numpy(im).to(DEVICE)\n",
    "    print(im)\n",
    "    # im = im.half() if model.fp16 else im.float()  # uint8 to fp16/32\n",
    "    im = im.float()\n",
    "    im /= 255  # 0 - 255 to 0.0 - 1.0\n",
    "    if len(im.shape) == 3:\n",
    "        im = im[None]  # expand for batch dim\n",
    "    # t2 = time_sync()\n",
    "    # dt[0] += t2 - t1\n",
    "\n",
    "    # Inference\n",
    "    # visualize = increment_path(save_dir / Path(path).stem, mkdir=True) if visualize else False\n",
    "    pred = model(im, augment=False, visualize=False)\n",
    "    # t3 = time_sync()\n",
    "    # dt[1] += t3 - t2\n",
    "    print(pred.shape)\n",
    "    # NMS\n",
    "    pred = non_max_suppression(pred, conf_thres, iou_thres, classes, False, max_det=1000)\n",
    "    for i, det in enumerate(pred):\n",
    "        print(im0.shape)\n",
    "        p, im0, frame = path, im0s.copy(), getattr(dataset, 'frame', 0)\n",
    "        gn = torch.tensor(im0.shape)[[1, 0, 1, 0]]  # normalization gain whwh\n",
    "        imc = im0.copy() if save_crop else im0  # for save_crop\n",
    "        annotator = Annotator(im0, line_width=line_thickness, example=str(names))\n",
    "        if len(det):\n",
    "            det[:, :4] = scale_coords(im.shape[2:], det[:, :4], im0.shape).round()\n",
    "            # print(det)\n",
    "            for j in det:\n",
    "                print(j)\n",
    "                x_start, y_start, x_end, y_end = int(j[0]),int(j[1]),int(j[2]),int(j[3])\n",
    "                class_idx = int(j[-1])\n",
    "                conf = j[-2]\n",
    "                new = cv2.rectangle(im0s, (x_start, y_start), (x_end, y_end), [0, 255, 0], 5)\n",
    "                real_width, real_height, _ = im0s.shape\n",
    "                print(real_width)\n",
    "                print(real_height)\n",
    "                # print((int(x_start*480/real_width)+20, int(y_start*480/real_height)-10))\n",
    "                new = cv2.resize(new, (720, 720))\n",
    "                print((int(x_start*720/real_width), int(y_start*720/real_height)-5))\n",
    "                print(real_classes[class_idx])\n",
    "                new = cv2.putText(new, real_classes[int(class_idx)]+\" \"+str(conf.numpy()),(int(x_start*720/real_height), int(y_start*720/real_width)-10),1,0.8,[0, 255, 0],1)\n",
    "                # new = cv2.putText(new, real_classes[class_idx],(x_start, y_start-10),1,1.1,[255, 255, 255],1)\n",
    "                cv2.imshow(\"Frame\", new)\n",
    "                \n",
    "                cv2.waitKey(0)\n",
    "                cv2.destroyAllWindows()\n",
    "    # break\n",
    "\n",
    "\n",
    "        "
   ]
  },
  {
   "cell_type": "code",
   "execution_count": 58,
   "metadata": {},
   "outputs": [
    {
     "data": {
      "text/plain": [
       "93.75"
      ]
     },
     "execution_count": 58,
     "metadata": {},
     "output_type": "execute_result"
    }
   ],
   "source": [
    "250 * 480/1280"
   ]
  }
 ],
 "metadata": {
  "kernelspec": {
   "display_name": "Python 3",
   "language": "python",
   "name": "python3"
  },
  "language_info": {
   "codemirror_mode": {
    "name": "ipython",
    "version": 3
   },
   "file_extension": ".py",
   "mimetype": "text/x-python",
   "name": "python",
   "nbconvert_exporter": "python",
   "pygments_lexer": "ipython3",
   "version": "3.8.1"
  },
  "vscode": {
   "interpreter": {
    "hash": "17d04747c53b9705925cb55ec6f429c9e05c1c878695b6c751f29393030d4b70"
   }
  }
 },
 "nbformat": 4,
 "nbformat_minor": 2
}
